{
 "cells": [
  {
   "cell_type": "markdown",
   "id": "4cc4dbe9-ac47-486b-ac62-4fe2fc0208f8",
   "metadata": {},
   "source": [
    "SIMULACION"
   ]
  },
  {
   "cell_type": "code",
   "execution_count": 3,
   "id": "1632e47a-e2f5-495e-8c5c-8057fddfd3d6",
   "metadata": {},
   "outputs": [],
   "source": [
    "#Librerias\n",
    "import math as mt\n",
    "import numpy as np\n",
    "import random as rd\n",
    "import matplotlib.pyplot as plt\n",
    "import plotly.graph_objects as go"
   ]
  },
  {
   "cell_type": "code",
   "execution_count": 4,
   "id": "eeea4fb4-ae0d-4712-962e-1d3bfefc9d61",
   "metadata": {},
   "outputs": [],
   "source": [
    "# Funciones del calculo de la posición de la j_ésima partícula\n",
    "def ur_p(q0, j, r, n):\n",
    "    return q0* mt.sin(j*r*mt.pi/(n+1))\n",
    "\n",
    "def vr_p(v0, j, r, n):\n",
    "    return v0* mt.sin(j*r*mt.pi/(n+1))\n",
    "\n",
    "def wr(T, d, ms, r, n):\n",
    "    return 2*mt.sqrt(T/(d*ms))*mt.sin(r*mt.pi/(2*n+2))\n",
    "\n",
    "def qj (u_r, wr, v_r, j, r, n):\n",
    "    return (u_r*mt.cos(wr*t) - v_r*mt.sin(wr*t))*mt.sin(j*r*mt.pi/(n+1))"
   ]
  },
  {
   "cell_type": "code",
   "execution_count": 5,
   "id": "53e3126f-33ee-4b10-b2b9-5c376e28c05a",
   "metadata": {},
   "outputs": [],
   "source": [
    "# Inicializar arreglos\n",
    "def init_p(N):\n",
    "    for i in range(N):\n",
    "        initial_pos[i] = rd.random() \n",
    "    return initial_pos\n",
    "\n",
    "def init_v(N):\n",
    "    for i in range(N):\n",
    "        initial_vel[i] = rd.random()\n",
    "    return initial_vel"
   ]
  },
  {
   "cell_type": "code",
   "execution_count": 77,
   "id": "2ffb2c41-3e5d-4092-ab33-52baeb4f5637",
   "metadata": {},
   "outputs": [
    {
     "data": {
      "application/vnd.plotly.v1+json": {
       "config": {
        "plotlyServerURL": "https://plot.ly"
       },
       "data": [
        {
         "mode": "lines+markers",
         "name": "Partícula 1",
         "type": "scatter",
         "visible": true,
         "x": [
          0,
          0.9090909090909091,
          1.8181818181818181,
          2.727272727272727,
          3.6363636363636362,
          4.545454545454545,
          5.454545454545454,
          6.363636363636363,
          7.2727272727272725,
          8.181818181818182,
          9.09090909090909,
          10
         ],
         "y": [
          0,
          0.23433282235662647,
          0.1582030010119639,
          -0.08333470871626769,
          0.024910145323429743,
          -0.03375636740814594,
          0.4191724301643418,
          -0.06193901920713203,
          0.3635834397970737,
          0.4100399130833126,
          0.5586033249292904,
          0
         ]
        },
        {
         "mode": "lines+markers",
         "name": "Partícula 2",
         "type": "scatter",
         "visible": false,
         "x": [
          0,
          0.9090909090909091,
          1.8181818181818181,
          2.727272727272727,
          3.6363636363636362,
          4.545454545454545,
          5.454545454545454,
          6.363636363636363,
          7.2727272727272725,
          8.181818181818182,
          9.09090909090909,
          10
         ],
         "y": [
          0,
          0.23433282235662647,
          0.1582030010119639,
          -0.08333470871626769,
          0.024910145323429743,
          -0.03375636740814594,
          0.4191724301643418,
          -0.06193901920713203,
          0.3635834397970737,
          0.4100399130833126,
          0.5586033249292904,
          0
         ]
        },
        {
         "mode": "lines+markers",
         "name": "Partícula 3",
         "type": "scatter",
         "visible": false,
         "x": [
          0,
          0.9090909090909091,
          1.8181818181818181,
          2.727272727272727,
          3.6363636363636362,
          4.545454545454545,
          5.454545454545454,
          6.363636363636363,
          7.2727272727272725,
          8.181818181818182,
          9.09090909090909,
          10
         ],
         "y": [
          0,
          0.23433282235662647,
          0.1582030010119639,
          -0.08333470871626769,
          0.024910145323429743,
          -0.03375636740814594,
          0.4191724301643418,
          -0.06193901920713203,
          0.3635834397970737,
          0.4100399130833126,
          0.5586033249292904,
          0
         ]
        },
        {
         "mode": "lines+markers",
         "name": "Partícula 4",
         "type": "scatter",
         "visible": false,
         "x": [
          0,
          0.9090909090909091,
          1.8181818181818181,
          2.727272727272727,
          3.6363636363636362,
          4.545454545454545,
          5.454545454545454,
          6.363636363636363,
          7.2727272727272725,
          8.181818181818182,
          9.09090909090909,
          10
         ],
         "y": [
          0,
          0.23433282235662647,
          0.1582030010119639,
          -0.08333470871626769,
          0.024910145323429743,
          -0.03375636740814594,
          0.4191724301643418,
          -0.06193901920713203,
          0.3635834397970737,
          0.4100399130833126,
          0.5586033249292904,
          0
         ]
        },
        {
         "mode": "lines+markers",
         "name": "Partícula 5",
         "type": "scatter",
         "visible": false,
         "x": [
          0,
          0.9090909090909091,
          1.8181818181818181,
          2.727272727272727,
          3.6363636363636362,
          4.545454545454545,
          5.454545454545454,
          6.363636363636363,
          7.2727272727272725,
          8.181818181818182,
          9.09090909090909,
          10
         ],
         "y": [
          0,
          0.23433282235662647,
          0.1582030010119639,
          -0.08333470871626769,
          0.024910145323429743,
          -0.03375636740814594,
          0.4191724301643418,
          -0.06193901920713203,
          0.3635834397970737,
          0.4100399130833126,
          0.5586033249292904,
          0
         ]
        },
        {
         "mode": "lines+markers",
         "name": "Partícula 6",
         "type": "scatter",
         "visible": false,
         "x": [
          0,
          0.9090909090909091,
          1.8181818181818181,
          2.727272727272727,
          3.6363636363636362,
          4.545454545454545,
          5.454545454545454,
          6.363636363636363,
          7.2727272727272725,
          8.181818181818182,
          9.09090909090909,
          10
         ],
         "y": [
          0,
          0.23433282235662647,
          0.1582030010119639,
          -0.08333470871626769,
          0.024910145323429743,
          -0.03375636740814594,
          0.4191724301643418,
          -0.06193901920713203,
          0.3635834397970737,
          0.4100399130833126,
          0.5586033249292904,
          0
         ]
        },
        {
         "mode": "lines+markers",
         "name": "Partícula 7",
         "type": "scatter",
         "visible": false,
         "x": [
          0,
          0.9090909090909091,
          1.8181818181818181,
          2.727272727272727,
          3.6363636363636362,
          4.545454545454545,
          5.454545454545454,
          6.363636363636363,
          7.2727272727272725,
          8.181818181818182,
          9.09090909090909,
          10
         ],
         "y": [
          0,
          0.23433282235662647,
          0.1582030010119639,
          -0.08333470871626769,
          0.024910145323429743,
          -0.03375636740814594,
          0.4191724301643418,
          -0.06193901920713203,
          0.3635834397970737,
          0.4100399130833126,
          0.5586033249292904,
          0
         ]
        },
        {
         "mode": "lines+markers",
         "name": "Partícula 8",
         "type": "scatter",
         "visible": false,
         "x": [
          0,
          0.9090909090909091,
          1.8181818181818181,
          2.727272727272727,
          3.6363636363636362,
          4.545454545454545,
          5.454545454545454,
          6.363636363636363,
          7.2727272727272725,
          8.181818181818182,
          9.09090909090909,
          10
         ],
         "y": [
          0,
          0.23433282235662647,
          0.1582030010119639,
          -0.08333470871626769,
          0.024910145323429743,
          -0.03375636740814594,
          0.4191724301643418,
          -0.06193901920713203,
          0.3635834397970737,
          0.4100399130833126,
          0.5586033249292904,
          0
         ]
        },
        {
         "mode": "lines+markers",
         "name": "Partícula 9",
         "type": "scatter",
         "visible": false,
         "x": [
          0,
          0.9090909090909091,
          1.8181818181818181,
          2.727272727272727,
          3.6363636363636362,
          4.545454545454545,
          5.454545454545454,
          6.363636363636363,
          7.2727272727272725,
          8.181818181818182,
          9.09090909090909,
          10
         ],
         "y": [
          0,
          0.23433282235662647,
          0.1582030010119639,
          -0.08333470871626769,
          0.024910145323429743,
          -0.03375636740814594,
          0.4191724301643418,
          -0.06193901920713203,
          0.3635834397970737,
          0.4100399130833126,
          0.5586033249292904,
          0
         ]
        },
        {
         "mode": "lines+markers",
         "name": "Partícula 10",
         "type": "scatter",
         "visible": false,
         "x": [
          0,
          0.9090909090909091,
          1.8181818181818181,
          2.727272727272727,
          3.6363636363636362,
          4.545454545454545,
          5.454545454545454,
          6.363636363636363,
          7.2727272727272725,
          8.181818181818182,
          9.09090909090909,
          10
         ],
         "y": [
          0,
          0.23433282235662647,
          0.1582030010119639,
          -0.08333470871626769,
          0.024910145323429743,
          -0.03375636740814594,
          0.4191724301643418,
          -0.06193901920713203,
          0.3635834397970737,
          0.4100399130833126,
          0.5586033249292904,
          0
         ]
        }
       ],
       "layout": {
        "autosize": true,
        "sliders": [
         {
          "active": 10,
          "currentvalue": {
           "prefix": "Tiempo: "
          },
          "pad": {
           "t": 50
          },
          "steps": [
           {
            "args": [
             {
              "y": [
               [
                0,
                0.7839339295396496,
                0.17070570894806616,
                0.5568652521832878,
                0.12579138810887786,
                0.6197013642032062,
                0.35554695403029807,
                0.496958041569438,
                0.6777879977260703,
                0.743430526422735,
                0.7358544318073583,
                0
               ]
              ]
             },
             {
              "title": "Tiempo: 0.00 s"
             }
            ],
            "method": "update"
           },
           {
            "args": [
             {
              "y": [
               [
                0,
                -0.5399718985440706,
                -0.41815250522543224,
                -0.034351251929299505,
                -0.13560437766178032,
                -0.06077466834652625,
                -0.0046945336651645,
                0.12430639666171073,
                0.017321360003566273,
                -0.1558857833801028,
                -0.33840219759101836,
                0
               ]
              ]
             },
             {
              "title": "Tiempo: 1.00 s"
             }
            ],
            "method": "update"
           },
           {
            "args": [
             {
              "y": [
               [
                0,
                -0.1897741138534931,
                -0.11301326374574318,
                -1.1353996109607778,
                -0.4755810964126778,
                -0.6616628665565185,
                -0.47808157778196003,
                -0.8168787001324769,
                -0.9569075746019201,
                -0.5965403302575653,
                -0.28200354780257364,
                0
               ]
              ]
             },
             {
              "title": "Tiempo: 2.00 s"
             }
            ],
            "method": "update"
           },
           {
            "args": [
             {
              "y": [
               [
                0,
                -0.14997210453894674,
                -0.3820075436792017,
                -0.2693391796639075,
                -0.8209183928602766,
                -1.5463040002435833,
                -1.6046440083060765,
                -1.2283656692798721,
                -0.6306289877965685,
                -0.543031535829935,
                -0.2216240706685067,
                0
               ]
              ]
             },
             {
              "title": "Tiempo: 3.00 s"
             }
            ],
            "method": "update"
           },
           {
            "args": [
             {
              "y": [
               [
                0,
                -0.05473352560234177,
                -0.7256515925915451,
                -0.6880131238624329,
                -1.3940433228323328,
                -0.5682845064315031,
                -0.7508916836898989,
                -0.9590582565598289,
                -0.9164354701174784,
                -0.5786400919900264,
                -0.22803332442037208,
                0
               ]
              ]
             },
             {
              "title": "Tiempo: 4.00 s"
             }
            ],
            "method": "update"
           },
           {
            "args": [
             {
              "y": [
               [
                0,
                -0.6409626576539721,
                -0.583478271347636,
                -0.6412118825777483,
                -0.12256444397619218,
                -0.36485030821178693,
                -0.43766703121013767,
                0.04756402403689924,
                -0.20816341409934008,
                -0.3069273868369366,
                -0.41168985762672466,
                0
               ]
              ]
             },
             {
              "title": "Tiempo: 5.00 s"
             }
            ],
            "method": "update"
           },
           {
            "args": [
             {
              "y": [
               [
                0,
                0.32278046081343464,
                0.6185291931057374,
                0.007526904705888187,
                0.2746761926968977,
                -0.026143030781148224,
                0.43146194791748316,
                0.11599209144386605,
                0.25690408600825826,
                0.5833650417340047,
                0.5727600091118293,
                0
               ]
              ]
             },
             {
              "title": "Tiempo: 6.00 s"
             }
            ],
            "method": "update"
           },
           {
            "args": [
             {
              "y": [
               [
                0,
                0.35356706351983364,
                0.4763460327858348,
                1.2119665710443221,
                0.8361288574804749,
                0.8866619773575067,
                0.7706442844055081,
                0.6827984895091628,
                1.0101209085423464,
                0.28716833431332756,
                -0.04335095573031267,
                0
               ]
              ]
             },
             {
              "title": "Tiempo: 7.00 s"
             }
            ],
            "method": "update"
           },
           {
            "args": [
             {
              "y": [
               [
                0,
                0.32847985972815363,
                0.33384866304712424,
                0.8149651992128201,
                1.0682034734026806,
                1.7493306175866452,
                1.305839111826679,
                1.115367235313109,
                0.22942194408575728,
                0.23931646179535943,
                0.38970227567434296,
                0
               ]
              ]
             },
             {
              "title": "Tiempo: 8.00 s"
             }
            ],
            "method": "update"
           },
           {
            "args": [
             {
              "y": [
               [
                0,
                0.09986199259479682,
                0.7912902838286219,
                0.5890883091682276,
                0.8764420110348161,
                0.4423945687340655,
                0.5871204056255175,
                0.9616026289711396,
                0.9012093668778391,
                0.8174755261531307,
                -0.00946080702891146,
                0
               ]
              ]
             },
             {
              "title": "Tiempo: 9.00 s"
             }
            ],
            "method": "update"
           },
           {
            "args": [
             {
              "y": [
               [
                0,
                0.23433282235662647,
                0.1582030010119639,
                -0.08333470871626769,
                0.024910145323429743,
                -0.03375636740814594,
                0.4191724301643418,
                -0.06193901920713203,
                0.3635834397970737,
                0.4100399130833126,
                0.5586033249292904,
                0
               ]
              ]
             },
             {
              "title": "Tiempo: 10.00 s"
             }
            ],
            "method": "update"
           }
          ]
         }
        ],
        "template": {
         "data": {
          "bar": [
           {
            "error_x": {
             "color": "#2a3f5f"
            },
            "error_y": {
             "color": "#2a3f5f"
            },
            "marker": {
             "line": {
              "color": "#E5ECF6",
              "width": 0.5
             },
             "pattern": {
              "fillmode": "overlay",
              "size": 10,
              "solidity": 0.2
             }
            },
            "type": "bar"
           }
          ],
          "barpolar": [
           {
            "marker": {
             "line": {
              "color": "#E5ECF6",
              "width": 0.5
             },
             "pattern": {
              "fillmode": "overlay",
              "size": 10,
              "solidity": 0.2
             }
            },
            "type": "barpolar"
           }
          ],
          "carpet": [
           {
            "aaxis": {
             "endlinecolor": "#2a3f5f",
             "gridcolor": "white",
             "linecolor": "white",
             "minorgridcolor": "white",
             "startlinecolor": "#2a3f5f"
            },
            "baxis": {
             "endlinecolor": "#2a3f5f",
             "gridcolor": "white",
             "linecolor": "white",
             "minorgridcolor": "white",
             "startlinecolor": "#2a3f5f"
            },
            "type": "carpet"
           }
          ],
          "choropleth": [
           {
            "colorbar": {
             "outlinewidth": 0,
             "ticks": ""
            },
            "type": "choropleth"
           }
          ],
          "contour": [
           {
            "colorbar": {
             "outlinewidth": 0,
             "ticks": ""
            },
            "colorscale": [
             [
              0,
              "#0d0887"
             ],
             [
              0.1111111111111111,
              "#46039f"
             ],
             [
              0.2222222222222222,
              "#7201a8"
             ],
             [
              0.3333333333333333,
              "#9c179e"
             ],
             [
              0.4444444444444444,
              "#bd3786"
             ],
             [
              0.5555555555555556,
              "#d8576b"
             ],
             [
              0.6666666666666666,
              "#ed7953"
             ],
             [
              0.7777777777777778,
              "#fb9f3a"
             ],
             [
              0.8888888888888888,
              "#fdca26"
             ],
             [
              1,
              "#f0f921"
             ]
            ],
            "type": "contour"
           }
          ],
          "contourcarpet": [
           {
            "colorbar": {
             "outlinewidth": 0,
             "ticks": ""
            },
            "type": "contourcarpet"
           }
          ],
          "heatmap": [
           {
            "colorbar": {
             "outlinewidth": 0,
             "ticks": ""
            },
            "colorscale": [
             [
              0,
              "#0d0887"
             ],
             [
              0.1111111111111111,
              "#46039f"
             ],
             [
              0.2222222222222222,
              "#7201a8"
             ],
             [
              0.3333333333333333,
              "#9c179e"
             ],
             [
              0.4444444444444444,
              "#bd3786"
             ],
             [
              0.5555555555555556,
              "#d8576b"
             ],
             [
              0.6666666666666666,
              "#ed7953"
             ],
             [
              0.7777777777777778,
              "#fb9f3a"
             ],
             [
              0.8888888888888888,
              "#fdca26"
             ],
             [
              1,
              "#f0f921"
             ]
            ],
            "type": "heatmap"
           }
          ],
          "heatmapgl": [
           {
            "colorbar": {
             "outlinewidth": 0,
             "ticks": ""
            },
            "colorscale": [
             [
              0,
              "#0d0887"
             ],
             [
              0.1111111111111111,
              "#46039f"
             ],
             [
              0.2222222222222222,
              "#7201a8"
             ],
             [
              0.3333333333333333,
              "#9c179e"
             ],
             [
              0.4444444444444444,
              "#bd3786"
             ],
             [
              0.5555555555555556,
              "#d8576b"
             ],
             [
              0.6666666666666666,
              "#ed7953"
             ],
             [
              0.7777777777777778,
              "#fb9f3a"
             ],
             [
              0.8888888888888888,
              "#fdca26"
             ],
             [
              1,
              "#f0f921"
             ]
            ],
            "type": "heatmapgl"
           }
          ],
          "histogram": [
           {
            "marker": {
             "pattern": {
              "fillmode": "overlay",
              "size": 10,
              "solidity": 0.2
             }
            },
            "type": "histogram"
           }
          ],
          "histogram2d": [
           {
            "colorbar": {
             "outlinewidth": 0,
             "ticks": ""
            },
            "colorscale": [
             [
              0,
              "#0d0887"
             ],
             [
              0.1111111111111111,
              "#46039f"
             ],
             [
              0.2222222222222222,
              "#7201a8"
             ],
             [
              0.3333333333333333,
              "#9c179e"
             ],
             [
              0.4444444444444444,
              "#bd3786"
             ],
             [
              0.5555555555555556,
              "#d8576b"
             ],
             [
              0.6666666666666666,
              "#ed7953"
             ],
             [
              0.7777777777777778,
              "#fb9f3a"
             ],
             [
              0.8888888888888888,
              "#fdca26"
             ],
             [
              1,
              "#f0f921"
             ]
            ],
            "type": "histogram2d"
           }
          ],
          "histogram2dcontour": [
           {
            "colorbar": {
             "outlinewidth": 0,
             "ticks": ""
            },
            "colorscale": [
             [
              0,
              "#0d0887"
             ],
             [
              0.1111111111111111,
              "#46039f"
             ],
             [
              0.2222222222222222,
              "#7201a8"
             ],
             [
              0.3333333333333333,
              "#9c179e"
             ],
             [
              0.4444444444444444,
              "#bd3786"
             ],
             [
              0.5555555555555556,
              "#d8576b"
             ],
             [
              0.6666666666666666,
              "#ed7953"
             ],
             [
              0.7777777777777778,
              "#fb9f3a"
             ],
             [
              0.8888888888888888,
              "#fdca26"
             ],
             [
              1,
              "#f0f921"
             ]
            ],
            "type": "histogram2dcontour"
           }
          ],
          "mesh3d": [
           {
            "colorbar": {
             "outlinewidth": 0,
             "ticks": ""
            },
            "type": "mesh3d"
           }
          ],
          "parcoords": [
           {
            "line": {
             "colorbar": {
              "outlinewidth": 0,
              "ticks": ""
             }
            },
            "type": "parcoords"
           }
          ],
          "pie": [
           {
            "automargin": true,
            "type": "pie"
           }
          ],
          "scatter": [
           {
            "fillpattern": {
             "fillmode": "overlay",
             "size": 10,
             "solidity": 0.2
            },
            "type": "scatter"
           }
          ],
          "scatter3d": [
           {
            "line": {
             "colorbar": {
              "outlinewidth": 0,
              "ticks": ""
             }
            },
            "marker": {
             "colorbar": {
              "outlinewidth": 0,
              "ticks": ""
             }
            },
            "type": "scatter3d"
           }
          ],
          "scattercarpet": [
           {
            "marker": {
             "colorbar": {
              "outlinewidth": 0,
              "ticks": ""
             }
            },
            "type": "scattercarpet"
           }
          ],
          "scattergeo": [
           {
            "marker": {
             "colorbar": {
              "outlinewidth": 0,
              "ticks": ""
             }
            },
            "type": "scattergeo"
           }
          ],
          "scattergl": [
           {
            "marker": {
             "colorbar": {
              "outlinewidth": 0,
              "ticks": ""
             }
            },
            "type": "scattergl"
           }
          ],
          "scattermapbox": [
           {
            "marker": {
             "colorbar": {
              "outlinewidth": 0,
              "ticks": ""
             }
            },
            "type": "scattermapbox"
           }
          ],
          "scatterpolar": [
           {
            "marker": {
             "colorbar": {
              "outlinewidth": 0,
              "ticks": ""
             }
            },
            "type": "scatterpolar"
           }
          ],
          "scatterpolargl": [
           {
            "marker": {
             "colorbar": {
              "outlinewidth": 0,
              "ticks": ""
             }
            },
            "type": "scatterpolargl"
           }
          ],
          "scatterternary": [
           {
            "marker": {
             "colorbar": {
              "outlinewidth": 0,
              "ticks": ""
             }
            },
            "type": "scatterternary"
           }
          ],
          "surface": [
           {
            "colorbar": {
             "outlinewidth": 0,
             "ticks": ""
            },
            "colorscale": [
             [
              0,
              "#0d0887"
             ],
             [
              0.1111111111111111,
              "#46039f"
             ],
             [
              0.2222222222222222,
              "#7201a8"
             ],
             [
              0.3333333333333333,
              "#9c179e"
             ],
             [
              0.4444444444444444,
              "#bd3786"
             ],
             [
              0.5555555555555556,
              "#d8576b"
             ],
             [
              0.6666666666666666,
              "#ed7953"
             ],
             [
              0.7777777777777778,
              "#fb9f3a"
             ],
             [
              0.8888888888888888,
              "#fdca26"
             ],
             [
              1,
              "#f0f921"
             ]
            ],
            "type": "surface"
           }
          ],
          "table": [
           {
            "cells": {
             "fill": {
              "color": "#EBF0F8"
             },
             "line": {
              "color": "white"
             }
            },
            "header": {
             "fill": {
              "color": "#C8D4E3"
             },
             "line": {
              "color": "white"
             }
            },
            "type": "table"
           }
          ]
         },
         "layout": {
          "annotationdefaults": {
           "arrowcolor": "#2a3f5f",
           "arrowhead": 0,
           "arrowwidth": 1
          },
          "autotypenumbers": "strict",
          "coloraxis": {
           "colorbar": {
            "outlinewidth": 0,
            "ticks": ""
           }
          },
          "colorscale": {
           "diverging": [
            [
             0,
             "#8e0152"
            ],
            [
             0.1,
             "#c51b7d"
            ],
            [
             0.2,
             "#de77ae"
            ],
            [
             0.3,
             "#f1b6da"
            ],
            [
             0.4,
             "#fde0ef"
            ],
            [
             0.5,
             "#f7f7f7"
            ],
            [
             0.6,
             "#e6f5d0"
            ],
            [
             0.7,
             "#b8e186"
            ],
            [
             0.8,
             "#7fbc41"
            ],
            [
             0.9,
             "#4d9221"
            ],
            [
             1,
             "#276419"
            ]
           ],
           "sequential": [
            [
             0,
             "#0d0887"
            ],
            [
             0.1111111111111111,
             "#46039f"
            ],
            [
             0.2222222222222222,
             "#7201a8"
            ],
            [
             0.3333333333333333,
             "#9c179e"
            ],
            [
             0.4444444444444444,
             "#bd3786"
            ],
            [
             0.5555555555555556,
             "#d8576b"
            ],
            [
             0.6666666666666666,
             "#ed7953"
            ],
            [
             0.7777777777777778,
             "#fb9f3a"
            ],
            [
             0.8888888888888888,
             "#fdca26"
            ],
            [
             1,
             "#f0f921"
            ]
           ],
           "sequentialminus": [
            [
             0,
             "#0d0887"
            ],
            [
             0.1111111111111111,
             "#46039f"
            ],
            [
             0.2222222222222222,
             "#7201a8"
            ],
            [
             0.3333333333333333,
             "#9c179e"
            ],
            [
             0.4444444444444444,
             "#bd3786"
            ],
            [
             0.5555555555555556,
             "#d8576b"
            ],
            [
             0.6666666666666666,
             "#ed7953"
            ],
            [
             0.7777777777777778,
             "#fb9f3a"
            ],
            [
             0.8888888888888888,
             "#fdca26"
            ],
            [
             1,
             "#f0f921"
            ]
           ]
          },
          "colorway": [
           "#636efa",
           "#EF553B",
           "#00cc96",
           "#ab63fa",
           "#FFA15A",
           "#19d3f3",
           "#FF6692",
           "#B6E880",
           "#FF97FF",
           "#FECB52"
          ],
          "font": {
           "color": "#2a3f5f"
          },
          "geo": {
           "bgcolor": "white",
           "lakecolor": "white",
           "landcolor": "#E5ECF6",
           "showlakes": true,
           "showland": true,
           "subunitcolor": "white"
          },
          "hoverlabel": {
           "align": "left"
          },
          "hovermode": "closest",
          "mapbox": {
           "style": "light"
          },
          "paper_bgcolor": "white",
          "plot_bgcolor": "#E5ECF6",
          "polar": {
           "angularaxis": {
            "gridcolor": "white",
            "linecolor": "white",
            "ticks": ""
           },
           "bgcolor": "#E5ECF6",
           "radialaxis": {
            "gridcolor": "white",
            "linecolor": "white",
            "ticks": ""
           }
          },
          "scene": {
           "xaxis": {
            "backgroundcolor": "#E5ECF6",
            "gridcolor": "white",
            "gridwidth": 2,
            "linecolor": "white",
            "showbackground": true,
            "ticks": "",
            "zerolinecolor": "white"
           },
           "yaxis": {
            "backgroundcolor": "#E5ECF6",
            "gridcolor": "white",
            "gridwidth": 2,
            "linecolor": "white",
            "showbackground": true,
            "ticks": "",
            "zerolinecolor": "white"
           },
           "zaxis": {
            "backgroundcolor": "#E5ECF6",
            "gridcolor": "white",
            "gridwidth": 2,
            "linecolor": "white",
            "showbackground": true,
            "ticks": "",
            "zerolinecolor": "white"
           }
          },
          "shapedefaults": {
           "line": {
            "color": "#2a3f5f"
           }
          },
          "ternary": {
           "aaxis": {
            "gridcolor": "white",
            "linecolor": "white",
            "ticks": ""
           },
           "baxis": {
            "gridcolor": "white",
            "linecolor": "white",
            "ticks": ""
           },
           "bgcolor": "#E5ECF6",
           "caxis": {
            "gridcolor": "white",
            "linecolor": "white",
            "ticks": ""
           }
          },
          "title": {
           "x": 0.05
          },
          "xaxis": {
           "automargin": true,
           "gridcolor": "white",
           "linecolor": "white",
           "ticks": "",
           "title": {
            "standoff": 15
           },
           "zerolinecolor": "white",
           "zerolinewidth": 2
          },
          "yaxis": {
           "automargin": true,
           "gridcolor": "white",
           "linecolor": "white",
           "ticks": "",
           "title": {
            "standoff": 15
           },
           "zerolinecolor": "white",
           "zerolinewidth": 2
          }
         }
        },
        "title": {
         "font": {
          "color": "black",
          "family": "Times New Roman",
          "size": 18
         },
         "text": "Tiempo: 10.00 s",
         "x": 0.5
        },
        "xaxis": {
         "range": [
          0,
          10
         ],
         "title": {
          "font": {
           "color": "black",
           "family": "Times New Roman",
           "size": 12
          },
          "text": "x"
         },
         "type": "linear"
        },
        "yaxis": {
         "range": [
          -1,
          1
         ],
         "title": {
          "font": {
           "color": "black",
           "family": "Times New Roman",
           "size": 12
          },
          "text": "y"
         },
         "type": "linear"
        }
       }
      },
      "image/png": "[encoded data removed]",
      "text/html": [
       "<div>                            <div id=\"26849dab-435f-4c1b-a106-292ed999939d\" class=\"plotly-graph-div\" style=\"height:525px; width:100%;\"></div>            <script type=\"text/javascript\">                require([\"plotly\"], function(Plotly) {                    window.PLOTLYENV=window.PLOTLYENV || {};                                    if (document.getElementById(\"26849dab-435f-4c1b-a106-292ed999939d\")) {                    Plotly.newPlot(                        \"26849dab-435f-4c1b-a106-292ed999939d\",                        [{\"mode\":\"lines+markers\",\"name\":\"Part\\u00edcula 1\",\"visible\":true,\"x\":[0.0,0.9090909090909091,1.8181818181818181,2.727272727272727,3.6363636363636362,4.545454545454545,5.454545454545454,6.363636363636363,7.2727272727272725,8.181818181818182,9.09090909090909,10.0],\"y\":[0.0,0.7839339295396496,0.17070570894806616,0.5568652521832878,0.12579138810887786,0.6197013642032062,0.35554695403029807,0.496958041569438,0.6777879977260703,0.743430526422735,0.7358544318073583,0.0],\"type\":\"scatter\"},{\"mode\":\"lines+markers\",\"name\":\"Part\\u00edcula 2\",\"visible\":false,\"x\":[0.0,0.9090909090909091,1.8181818181818181,2.727272727272727,3.6363636363636362,4.545454545454545,5.454545454545454,6.363636363636363,7.2727272727272725,8.181818181818182,9.09090909090909,10.0],\"y\":[0.0,-0.5399718985440706,-0.41815250522543224,-0.034351251929299505,-0.13560437766178032,-0.06077466834652625,-0.0046945336651645,0.12430639666171073,0.017321360003566273,-0.1558857833801028,-0.33840219759101836,0.0],\"type\":\"scatter\"},{\"mode\":\"lines+markers\",\"name\":\"Part\\u00edcula 3\",\"visible\":false,\"x\":[0.0,0.9090909090909091,1.8181818181818181,2.727272727272727,3.6363636363636362,4.545454545454545,5.454545454545454,6.363636363636363,7.2727272727272725,8.181818181818182,9.09090909090909,10.0],\"y\":[0.0,-0.1897741138534931,-0.11301326374574318,-1.1353996109607778,-0.4755810964126778,-0.6616628665565185,-0.47808157778196003,-0.8168787001324769,-0.9569075746019201,-0.5965403302575653,-0.28200354780257364,0.0],\"type\":\"scatter\"},{\"mode\":\"lines+markers\",\"name\":\"Part\\u00edcula 4\",\"visible\":false,\"x\":[0.0,0.9090909090909091,1.8181818181818181,2.727272727272727,3.6363636363636362,4.545454545454545,5.454545454545454,6.363636363636363,7.2727272727272725,8.181818181818182,9.09090909090909,10.0],\"y\":[0.0,-0.14997210453894674,-0.3820075436792017,-0.2693391796639075,-0.8209183928602766,-1.5463040002435833,-1.6046440083060765,-1.2283656692798721,-0.6306289877965685,-0.543031535829935,-0.2216240706685067,0.0],\"type\":\"scatter\"},{\"mode\":\"lines+markers\",\"name\":\"Part\\u00edcula 5\",\"visible\":false,\"x\":[0.0,0.9090909090909091,1.8181818181818181,2.727272727272727,3.6363636363636362,4.545454545454545,5.454545454545454,6.363636363636363,7.2727272727272725,8.181818181818182,9.09090909090909,10.0],\"y\":[0.0,-0.05473352560234177,-0.7256515925915451,-0.6880131238624329,-1.3940433228323328,-0.5682845064315031,-0.7508916836898989,-0.9590582565598289,-0.9164354701174784,-0.5786400919900264,-0.22803332442037208,0.0],\"type\":\"scatter\"},{\"mode\":\"lines+markers\",\"name\":\"Part\\u00edcula 6\",\"visible\":false,\"x\":[0.0,0.9090909090909091,1.8181818181818181,2.727272727272727,3.6363636363636362,4.545454545454545,5.454545454545454,6.363636363636363,7.2727272727272725,8.181818181818182,9.09090909090909,10.0],\"y\":[0.0,-0.6409626576539721,-0.583478271347636,-0.6412118825777483,-0.12256444397619218,-0.36485030821178693,-0.43766703121013767,0.04756402403689924,-0.20816341409934008,-0.3069273868369366,-0.41168985762672466,0.0],\"type\":\"scatter\"},{\"mode\":\"lines+markers\",\"name\":\"Part\\u00edcula 7\",\"visible\":false,\"x\":[0.0,0.9090909090909091,1.8181818181818181,2.727272727272727,3.6363636363636362,4.545454545454545,5.454545454545454,6.363636363636363,7.2727272727272725,8.181818181818182,9.09090909090909,10.0],\"y\":[0.0,0.32278046081343464,0.6185291931057374,0.007526904705888187,0.2746761926968977,-0.026143030781148224,0.43146194791748316,0.11599209144386605,0.25690408600825826,0.5833650417340047,0.5727600091118293,0.0],\"type\":\"scatter\"},{\"mode\":\"lines+markers\",\"name\":\"Part\\u00edcula 8\",\"visible\":false,\"x\":[0.0,0.9090909090909091,1.8181818181818181,2.727272727272727,3.6363636363636362,4.545454545454545,5.454545454545454,6.363636363636363,7.2727272727272725,8.181818181818182,9.09090909090909,10.0],\"y\":[0.0,0.35356706351983364,0.4763460327858348,1.2119665710443221,0.8361288574804749,0.8866619773575067,0.7706442844055081,0.6827984895091628,1.0101209085423464,0.28716833431332756,-0.04335095573031267,0.0],\"type\":\"scatter\"},{\"mode\":\"lines+markers\",\"name\":\"Part\\u00edcula 9\",\"visible\":false,\"x\":[0.0,0.9090909090909091,1.8181818181818181,2.727272727272727,3.6363636363636362,4.545454545454545,5.454545454545454,6.363636363636363,7.2727272727272725,8.181818181818182,9.09090909090909,10.0],\"y\":[0.0,0.32847985972815363,0.33384866304712424,0.8149651992128201,1.0682034734026806,1.7493306175866452,1.305839111826679,1.115367235313109,0.22942194408575728,0.23931646179535943,0.38970227567434296,0.0],\"type\":\"scatter\"},{\"mode\":\"lines+markers\",\"name\":\"Part\\u00edcula 10\",\"visible\":false,\"x\":[0.0,0.9090909090909091,1.8181818181818181,2.727272727272727,3.6363636363636362,4.545454545454545,5.454545454545454,6.363636363636363,7.2727272727272725,8.181818181818182,9.09090909090909,10.0],\"y\":[0.0,0.09986199259479682,0.7912902838286219,0.5890883091682276,0.8764420110348161,0.4423945687340655,0.5871204056255175,0.9616026289711396,0.9012093668778391,0.8174755261531307,-0.00946080702891146,0.0],\"type\":\"scatter\"}],                        {\"template\":{\"data\":{\"histogram2dcontour\":[{\"type\":\"histogram2dcontour\",\"colorbar\":{\"outlinewidth\":0,\"ticks\":\"\"},\"colorscale\":[[0.0,\"#0d0887\"],[0.1111111111111111,\"#46039f\"],[0.2222222222222222,\"#7201a8\"],[0.3333333333333333,\"#9c179e\"],[0.4444444444444444,\"#bd3786\"],[0.5555555555555556,\"#d8576b\"],[0.6666666666666666,\"#ed7953\"],[0.7777777777777778,\"#fb9f3a\"],[0.8888888888888888,\"#fdca26\"],[1.0,\"#f0f921\"]]}],\"choropleth\":[{\"type\":\"choropleth\",\"colorbar\":{\"outlinewidth\":0,\"ticks\":\"\"}}],\"histogram2d\":[{\"type\":\"histogram2d\",\"colorbar\":{\"outlinewidth\":0,\"ticks\":\"\"},\"colorscale\":[[0.0,\"#0d0887\"],[0.1111111111111111,\"#46039f\"],[0.2222222222222222,\"#7201a8\"],[0.3333333333333333,\"#9c179e\"],[0.4444444444444444,\"#bd3786\"],[0.5555555555555556,\"#d8576b\"],[0.6666666666666666,\"#ed7953\"],[0.7777777777777778,\"#fb9f3a\"],[0.8888888888888888,\"#fdca26\"],[1.0,\"#f0f921\"]]}],\"heatmap\":[{\"type\":\"heatmap\",\"colorbar\":{\"outlinewidth\":0,\"ticks\":\"\"},\"colorscale\":[[0.0,\"#0d0887\"],[0.1111111111111111,\"#46039f\"],[0.2222222222222222,\"#7201a8\"],[0.3333333333333333,\"#9c179e\"],[0.4444444444444444,\"#bd3786\"],[0.5555555555555556,\"#d8576b\"],[0.6666666666666666,\"#ed7953\"],[0.7777777777777778,\"#fb9f3a\"],[0.8888888888888888,\"#fdca26\"],[1.0,\"#f0f921\"]]}],\"heatmapgl\":[{\"type\":\"heatmapgl\",\"colorbar\":{\"outlinewidth\":0,\"ticks\":\"\"},\"colorscale\":[[0.0,\"#0d0887\"],[0.1111111111111111,\"#46039f\"],[0.2222222222222222,\"#7201a8\"],[0.3333333333333333,\"#9c179e\"],[0.4444444444444444,\"#bd3786\"],[0.5555555555555556,\"#d8576b\"],[0.6666666666666666,\"#ed7953\"],[0.7777777777777778,\"#fb9f3a\"],[0.8888888888888888,\"#fdca26\"],[1.0,\"#f0f921\"]]}],\"contourcarpet\":[{\"type\":\"contourcarpet\",\"colorbar\":{\"outlinewidth\":0,\"ticks\":\"\"}}],\"contour\":[{\"type\":\"contour\",\"colorbar\":{\"outlinewidth\":0,\"ticks\":\"\"},\"colorscale\":[[0.0,\"#0d0887\"],[0.1111111111111111,\"#46039f\"],[0.2222222222222222,\"#7201a8\"],[0.3333333333333333,\"#9c179e\"],[0.4444444444444444,\"#bd3786\"],[0.5555555555555556,\"#d8576b\"],[0.6666666666666666,\"#ed7953\"],[0.7777777777777778,\"#fb9f3a\"],[0.8888888888888888,\"#fdca26\"],[1.0,\"#f0f921\"]]}],\"surface\":[{\"type\":\"surface\",\"colorbar\":{\"outlinewidth\":0,\"ticks\":\"\"},\"colorscale\":[[0.0,\"#0d0887\"],[0.1111111111111111,\"#46039f\"],[0.2222222222222222,\"#7201a8\"],[0.3333333333333333,\"#9c179e\"],[0.4444444444444444,\"#bd3786\"],[0.5555555555555556,\"#d8576b\"],[0.6666666666666666,\"#ed7953\"],[0.7777777777777778,\"#fb9f3a\"],[0.8888888888888888,\"#fdca26\"],[1.0,\"#f0f921\"]]}],\"mesh3d\":[{\"type\":\"mesh3d\",\"colorbar\":{\"outlinewidth\":0,\"ticks\":\"\"}}],\"scatter\":[{\"fillpattern\":{\"fillmode\":\"overlay\",\"size\":10,\"solidity\":0.2},\"type\":\"scatter\"}],\"parcoords\":[{\"type\":\"parcoords\",\"line\":{\"colorbar\":{\"outlinewidth\":0,\"ticks\":\"\"}}}],\"scatterpolargl\":[{\"type\":\"scatterpolargl\",\"marker\":{\"colorbar\":{\"outlinewidth\":0,\"ticks\":\"\"}}}],\"bar\":[{\"error_x\":{\"color\":\"#2a3f5f\"},\"error_y\":{\"color\":\"#2a3f5f\"},\"marker\":{\"line\":{\"color\":\"#E5ECF6\",\"width\":0.5},\"pattern\":{\"fillmode\":\"overlay\",\"size\":10,\"solidity\":0.2}},\"type\":\"bar\"}],\"scattergeo\":[{\"type\":\"scattergeo\",\"marker\":{\"colorbar\":{\"outlinewidth\":0,\"ticks\":\"\"}}}],\"scatterpolar\":[{\"type\":\"scatterpolar\",\"marker\":{\"colorbar\":{\"outlinewidth\":0,\"ticks\":\"\"}}}],\"histogram\":[{\"marker\":{\"pattern\":{\"fillmode\":\"overlay\",\"size\":10,\"solidity\":0.2}},\"type\":\"histogram\"}],\"scattergl\":[{\"type\":\"scattergl\",\"marker\":{\"colorbar\":{\"outlinewidth\":0,\"ticks\":\"\"}}}],\"scatter3d\":[{\"type\":\"scatter3d\",\"line\":{\"colorbar\":{\"outlinewidth\":0,\"ticks\":\"\"}},\"marker\":{\"colorbar\":{\"outlinewidth\":0,\"ticks\":\"\"}}}],\"scattermapbox\":[{\"type\":\"scattermapbox\",\"marker\":{\"colorbar\":{\"outlinewidth\":0,\"ticks\":\"\"}}}],\"scatterternary\":[{\"type\":\"scatterternary\",\"marker\":{\"colorbar\":{\"outlinewidth\":0,\"ticks\":\"\"}}}],\"scattercarpet\":[{\"type\":\"scattercarpet\",\"marker\":{\"colorbar\":{\"outlinewidth\":0,\"ticks\":\"\"}}}],\"carpet\":[{\"aaxis\":{\"endlinecolor\":\"#2a3f5f\",\"gridcolor\":\"white\",\"linecolor\":\"white\",\"minorgridcolor\":\"white\",\"startlinecolor\":\"#2a3f5f\"},\"baxis\":{\"endlinecolor\":\"#2a3f5f\",\"gridcolor\":\"white\",\"linecolor\":\"white\",\"minorgridcolor\":\"white\",\"startlinecolor\":\"#2a3f5f\"},\"type\":\"carpet\"}],\"table\":[{\"cells\":{\"fill\":{\"color\":\"#EBF0F8\"},\"line\":{\"color\":\"white\"}},\"header\":{\"fill\":{\"color\":\"#C8D4E3\"},\"line\":{\"color\":\"white\"}},\"type\":\"table\"}],\"barpolar\":[{\"marker\":{\"line\":{\"color\":\"#E5ECF6\",\"width\":0.5},\"pattern\":{\"fillmode\":\"overlay\",\"size\":10,\"solidity\":0.2}},\"type\":\"barpolar\"}],\"pie\":[{\"automargin\":true,\"type\":\"pie\"}]},\"layout\":{\"autotypenumbers\":\"strict\",\"colorway\":[\"#636efa\",\"#EF553B\",\"#00cc96\",\"#ab63fa\",\"#FFA15A\",\"#19d3f3\",\"#FF6692\",\"#B6E880\",\"#FF97FF\",\"#FECB52\"],\"font\":{\"color\":\"#2a3f5f\"},\"hovermode\":\"closest\",\"hoverlabel\":{\"align\":\"left\"},\"paper_bgcolor\":\"white\",\"plot_bgcolor\":\"#E5ECF6\",\"polar\":{\"bgcolor\":\"#E5ECF6\",\"angularaxis\":{\"gridcolor\":\"white\",\"linecolor\":\"white\",\"ticks\":\"\"},\"radialaxis\":{\"gridcolor\":\"white\",\"linecolor\":\"white\",\"ticks\":\"\"}},\"ternary\":{\"bgcolor\":\"#E5ECF6\",\"aaxis\":{\"gridcolor\":\"white\",\"linecolor\":\"white\",\"ticks\":\"\"},\"baxis\":{\"gridcolor\":\"white\",\"linecolor\":\"white\",\"ticks\":\"\"},\"caxis\":{\"gridcolor\":\"white\",\"linecolor\":\"white\",\"ticks\":\"\"}},\"coloraxis\":{\"colorbar\":{\"outlinewidth\":0,\"ticks\":\"\"}},\"colorscale\":{\"sequential\":[[0.0,\"#0d0887\"],[0.1111111111111111,\"#46039f\"],[0.2222222222222222,\"#7201a8\"],[0.3333333333333333,\"#9c179e\"],[0.4444444444444444,\"#bd3786\"],[0.5555555555555556,\"#d8576b\"],[0.6666666666666666,\"#ed7953\"],[0.7777777777777778,\"#fb9f3a\"],[0.8888888888888888,\"#fdca26\"],[1.0,\"#f0f921\"]],\"sequentialminus\":[[0.0,\"#0d0887\"],[0.1111111111111111,\"#46039f\"],[0.2222222222222222,\"#7201a8\"],[0.3333333333333333,\"#9c179e\"],[0.4444444444444444,\"#bd3786\"],[0.5555555555555556,\"#d8576b\"],[0.6666666666666666,\"#ed7953\"],[0.7777777777777778,\"#fb9f3a\"],[0.8888888888888888,\"#fdca26\"],[1.0,\"#f0f921\"]],\"diverging\":[[0,\"#8e0152\"],[0.1,\"#c51b7d\"],[0.2,\"#de77ae\"],[0.3,\"#f1b6da\"],[0.4,\"#fde0ef\"],[0.5,\"#f7f7f7\"],[0.6,\"#e6f5d0\"],[0.7,\"#b8e186\"],[0.8,\"#7fbc41\"],[0.9,\"#4d9221\"],[1,\"#276419\"]]},\"xaxis\":{\"gridcolor\":\"white\",\"linecolor\":\"white\",\"ticks\":\"\",\"title\":{\"standoff\":15},\"zerolinecolor\":\"white\",\"automargin\":true,\"zerolinewidth\":2},\"yaxis\":{\"gridcolor\":\"white\",\"linecolor\":\"white\",\"ticks\":\"\",\"title\":{\"standoff\":15},\"zerolinecolor\":\"white\",\"automargin\":true,\"zerolinewidth\":2},\"scene\":{\"xaxis\":{\"backgroundcolor\":\"#E5ECF6\",\"gridcolor\":\"white\",\"linecolor\":\"white\",\"showbackground\":true,\"ticks\":\"\",\"zerolinecolor\":\"white\",\"gridwidth\":2},\"yaxis\":{\"backgroundcolor\":\"#E5ECF6\",\"gridcolor\":\"white\",\"linecolor\":\"white\",\"showbackground\":true,\"ticks\":\"\",\"zerolinecolor\":\"white\",\"gridwidth\":2},\"zaxis\":{\"backgroundcolor\":\"#E5ECF6\",\"gridcolor\":\"white\",\"linecolor\":\"white\",\"showbackground\":true,\"ticks\":\"\",\"zerolinecolor\":\"white\",\"gridwidth\":2}},\"shapedefaults\":{\"line\":{\"color\":\"#2a3f5f\"}},\"annotationdefaults\":{\"arrowcolor\":\"#2a3f5f\",\"arrowhead\":0,\"arrowwidth\":1},\"geo\":{\"bgcolor\":\"white\",\"landcolor\":\"#E5ECF6\",\"subunitcolor\":\"white\",\"showland\":true,\"showlakes\":true,\"lakecolor\":\"white\"},\"title\":{\"x\":0.05},\"mapbox\":{\"style\":\"light\"}}},\"title\":{\"font\":{\"size\":18,\"color\":\"black\",\"family\":\"Times New Roman\"},\"text\":\"Evolucion de particulas\",\"x\":0.5},\"xaxis\":{\"title\":{\"font\":{\"size\":12,\"color\":\"black\",\"family\":\"Times New Roman\"},\"text\":\"x\"},\"range\":[0,10]},\"yaxis\":{\"title\":{\"font\":{\"size\":12,\"color\":\"black\",\"family\":\"Times New Roman\"},\"text\":\"y\"},\"range\":[-1,1]},\"sliders\":[{\"active\":0,\"currentvalue\":{\"prefix\":\"Tiempo: \"},\"pad\":{\"t\":50},\"steps\":[{\"args\":[{\"y\":[[0.0,0.7839339295396496,0.17070570894806616,0.5568652521832878,0.12579138810887786,0.6197013642032062,0.35554695403029807,0.496958041569438,0.6777879977260703,0.743430526422735,0.7358544318073583,0.0]]},{\"title\":\"Tiempo: 0.00 s\"}],\"method\":\"update\"},{\"args\":[{\"y\":[[0.0,-0.5399718985440706,-0.41815250522543224,-0.034351251929299505,-0.13560437766178032,-0.06077466834652625,-0.0046945336651645,0.12430639666171073,0.017321360003566273,-0.1558857833801028,-0.33840219759101836,0.0]]},{\"title\":\"Tiempo: 1.00 s\"}],\"method\":\"update\"},{\"args\":[{\"y\":[[0.0,-0.1897741138534931,-0.11301326374574318,-1.1353996109607778,-0.4755810964126778,-0.6616628665565185,-0.47808157778196003,-0.8168787001324769,-0.9569075746019201,-0.5965403302575653,-0.28200354780257364,0.0]]},{\"title\":\"Tiempo: 2.00 s\"}],\"method\":\"update\"},{\"args\":[{\"y\":[[0.0,-0.14997210453894674,-0.3820075436792017,-0.2693391796639075,-0.8209183928602766,-1.5463040002435833,-1.6046440083060765,-1.2283656692798721,-0.6306289877965685,-0.543031535829935,-0.2216240706685067,0.0]]},{\"title\":\"Tiempo: 3.00 s\"}],\"method\":\"update\"},{\"args\":[{\"y\":[[0.0,-0.05473352560234177,-0.7256515925915451,-0.6880131238624329,-1.3940433228323328,-0.5682845064315031,-0.7508916836898989,-0.9590582565598289,-0.9164354701174784,-0.5786400919900264,-0.22803332442037208,0.0]]},{\"title\":\"Tiempo: 4.00 s\"}],\"method\":\"update\"},{\"args\":[{\"y\":[[0.0,-0.6409626576539721,-0.583478271347636,-0.6412118825777483,-0.12256444397619218,-0.36485030821178693,-0.43766703121013767,0.04756402403689924,-0.20816341409934008,-0.3069273868369366,-0.41168985762672466,0.0]]},{\"title\":\"Tiempo: 5.00 s\"}],\"method\":\"update\"},{\"args\":[{\"y\":[[0.0,0.32278046081343464,0.6185291931057374,0.007526904705888187,0.2746761926968977,-0.026143030781148224,0.43146194791748316,0.11599209144386605,0.25690408600825826,0.5833650417340047,0.5727600091118293,0.0]]},{\"title\":\"Tiempo: 6.00 s\"}],\"method\":\"update\"},{\"args\":[{\"y\":[[0.0,0.35356706351983364,0.4763460327858348,1.2119665710443221,0.8361288574804749,0.8866619773575067,0.7706442844055081,0.6827984895091628,1.0101209085423464,0.28716833431332756,-0.04335095573031267,0.0]]},{\"title\":\"Tiempo: 7.00 s\"}],\"method\":\"update\"},{\"args\":[{\"y\":[[0.0,0.32847985972815363,0.33384866304712424,0.8149651992128201,1.0682034734026806,1.7493306175866452,1.305839111826679,1.115367235313109,0.22942194408575728,0.23931646179535943,0.38970227567434296,0.0]]},{\"title\":\"Tiempo: 8.00 s\"}],\"method\":\"update\"},{\"args\":[{\"y\":[[0.0,0.09986199259479682,0.7912902838286219,0.5890883091682276,0.8764420110348161,0.4423945687340655,0.5871204056255175,0.9616026289711396,0.9012093668778391,0.8174755261531307,-0.00946080702891146,0.0]]},{\"title\":\"Tiempo: 9.00 s\"}],\"method\":\"update\"},{\"args\":[{\"y\":[[0.0,0.23433282235662647,0.1582030010119639,-0.08333470871626769,0.024910145323429743,-0.03375636740814594,0.4191724301643418,-0.06193901920713203,0.3635834397970737,0.4100399130833126,0.5586033249292904,0.0]]},{\"title\":\"Tiempo: 10.00 s\"}],\"method\":\"update\"}]}]},                        {\"responsive\": true}                    ).then(function(){\n",
       "                            \n",
       "var gd = document.getElementById('26849dab-435f-4c1b-a106-292ed999939d');\n",
       "var x = new MutationObserver(function (mutations, observer) {{\n",
       "        var display = window.getComputedStyle(gd).display;\n",
       "        if (!display || display === 'none') {{\n",
       "            console.log([gd, 'removed!']);\n",
       "            Plotly.purge(gd);\n",
       "            observer.disconnect();\n",
       "        }}\n",
       "}});\n",
       "\n",
       "// Listen for the removal of the full notebook cells\n",
       "var notebookContainer = gd.closest('#notebook-container');\n",
       "if (notebookContainer) {{\n",
       "    x.observe(notebookContainer, {childList: true});\n",
       "}}\n",
       "\n",
       "// Listen for the clearing of the current output cell\n",
       "var outputEl = gd.closest('.output');\n",
       "if (outputEl) {{\n",
       "    x.observe(outputEl, {childList: true});\n",
       "}}\n",
       "\n",
       "                        })                };                });            </script>        </div>"
      ]
     },
     "metadata": {},
     "output_type": "display_data"
    }
   ],
   "source": [
    "# Simulacion\n",
    "\n",
    "n_particulas = 10\n",
    "\n",
    "#Condiciones \n",
    "Tension = 5\n",
    "masa = 1\n",
    "Longitud_cuerda = 10 \n",
    "dis = Longitud_cuerda / (n_particulas + 1)\n",
    "\n",
    "initial_pos = np.zeros(n_particulas)\n",
    "initial_vel = np.zeros(n_particulas)\n",
    "\n",
    "# Elige una posición y velocidad incial  #caso de la clase con n_particulas = 3\n",
    "#s = 1\n",
    "#initial_pos[s] = 2\n",
    "#initial_vel[s] = 0\n",
    "\n",
    "# Condiciones iniciales aleatorias para todas las partículas\n",
    "initial_pos = init_p(n_particulas)\n",
    "initial_vel = init_v(n_particulas)\n",
    "\n",
    "# Arreglo para determinar la posición de la k-ésima partícula\n",
    "#j = 1\n",
    "#init_pos = 10\n",
    "#init_vel = 0\n",
    "\n",
    "#posiciones en x\n",
    "positions_x = np.zeros(n_particulas+2)\n",
    "for i in range(1,n_particulas+2):\n",
    "    positions_x[i] = dis*i\n",
    "\n",
    "\n",
    "#Tiempo inicial y tiempo final con dt\n",
    "tiempo = 0\n",
    "tiempo_final = 10\n",
    "iter = 10\n",
    "dt = (tiempo_final - tiempo) / iter\n",
    "\n",
    "# Comenzar a crear el grafico el gráfico\n",
    "#y_lim = (-initial_pos[s]-0.2,initial_pos[s]+ 0.2)   #limite en y de la grafica (escala)\n",
    "\n",
    "index_graph = 0\n",
    "\n",
    "\n",
    "eq_line = np.zeros(n_particulas+2)\n",
    "\n",
    "array_pos_tem = [[] for i in range(iter+1)]\n",
    "array_tem = []\n",
    "k=0\n",
    "\n",
    "while(tiempo <= tiempo_final): \n",
    "    #posiciones en y\n",
    "    positions_y = np.zeros(n_particulas+2)\n",
    "    for j in range(1,n_particulas+1):\n",
    "        pos_j1 = 0   # posicion auxiliar\n",
    "        pos_j2 = 0\n",
    "        for r in range(1,n_particulas+1):\n",
    "            pos_j_1_1 = 0\n",
    "            pos_j_1_2 = 0\n",
    "            wr_val = wr(Tension,dis,masa,r,n_particulas)\n",
    "            for j_1 in range(1,n_particulas+1):\n",
    "                pos_j_1_1 = pos_j_1_1 + ur_p(initial_pos[j_1-1], j_1, r, n_particulas)\n",
    "                pos_j_1_2 = pos_j_1_2 + vr_p(initial_vel[j_1-1], j_1, r, n_particulas)\n",
    "            \n",
    "            pos_j1 = pos_j1 + pos_j_1_1*mt.cos(wr_val*tiempo)*mt.sin(j*r*mt.pi/(n_particulas+1))\n",
    "            pos_j2 = pos_j2 + (1/wr_val)*pos_j_1_2*mt.sin(wr_val*tiempo)*mt.sin(j*r*mt.pi/(n_particulas+1))   #termina sumatoria en j'\n",
    "        \n",
    "        positions_y[j] = (2/(n_particulas+1)) * (pos_j1 - pos_j2) #termina sumatoria en r para obtener j-ésima posición\n",
    "        \n",
    "    array_pos_tem[k] = positions_y\n",
    "    array_tem.append(tiempo)\n",
    "    \n",
    "    #print(positions_y)\n",
    "    #print(f'({k}, {tiempo})')\n",
    "    tiempo += dt\n",
    "    k+=1\n",
    "\n",
    "\n",
    "#print(pos_j)\n",
    "#print(positions_y)\n",
    "#print(initial_pos)\n",
    "#print(initial_vel)\n",
    "#print(positions_x)\n",
    "#print(positions_y)\n",
    "\n",
    "# Mostrar el gráfico \n",
    "\n",
    "fig = go.Figure()\n",
    "\n",
    "for j in range(n_particulas):\n",
    "        fig.add_trace(go.Scatter(visible=False, mode=\"lines+markers\", x=positions_x, y=array_pos_tem[j], name=f\"Partícula {j + 1}\"))\n",
    "\n",
    "# Al ejecutarse por primera vez, muestra la función para la frecuencia que está en data[v]\n",
    "fig.data[0].visible = True    ##--> Muestra la función para t = 0\n",
    "\n",
    "    # Crear y añadir una barra deslizante\n",
    "steps = []\n",
    "for i, k in enumerate(array_tem):\n",
    "    step = dict(method=\"update\",args=[{\"y\": [array_pos_tem[i]]}, {\"title\": f\"Tiempo: {k:.2f} s\"}],) # Atributo de diseño\n",
    "    # Primero se le dice que todas las funciones sean False\n",
    "    steps.append(step)\n",
    "\n",
    "sliders = [dict(active=0, currentvalue={\"prefix\": \"Tiempo: \"}, pad={\"t\": 50}, steps=steps)]\n",
    "\n",
    "fig.update_layout(sliders=sliders, title=dict(text=\"Evolucion de particulas\", font=dict(size=18, color=\"black\", family=\"Times New Roman\"), x=0.5), # Centrado horizontalmente\n",
    "    xaxis_title=dict(text=\"x\",font=dict(size=12, color=\"black\", family=\"Times New Roman\")),   \n",
    "    yaxis_title=dict(text=\"y\", font=dict(size=12, color=\"black\", family=\"Times New Roman\")), xaxis=dict(range=[0, Longitud_cuerda]),\n",
    "    yaxis=dict(range=[-1, 1]))\n",
    "fig.show()#\"\"\"\n",
    "\n",
    "\n"
   ]
  },
  {
   "cell_type": "code",
   "execution_count": 52,
   "id": "463bab35-f7b7-4e00-8098-ea9dcf29a7f1",
   "metadata": {},
   "outputs": [
    {
     "name": "stdout",
     "output_type": "stream",
     "text": [
      "[0.         0.01986698 0.07788648 0.16942432 0.28711631 0.42138176\n",
      " 0.56109251 0.69435213 0.80933179 0.89510596 0.94243077]\n",
      "[ 2.          1.96019956  1.84317169  1.65587952  1.4094145   1.11826242\n",
      "  0.79934617  0.47091001  0.15132078 -0.14213313 -0.39436398]\n"
     ]
    }
   ],
   "source": [
    "\n",
    "#Ejemplo en clase (Comparación)\n",
    "a = 2\n",
    "q1 = np.zeros(iter+1)\n",
    "q2 = np.zeros(iter+1)\n",
    "t = 0\n",
    "i = 0\n",
    "while(t <= tiempo_final):\n",
    "    q1[i] = (a*mt.sqrt(2)/4)*(mt.cos(wr(Tension,dis,masa,1,n_particulas)*t)-mt.cos(wr(Tension,dis,masa,3,n_particulas)*t))\n",
    "    q2[i] = (a/2)*(mt.cos(wr(Tension,dis,masa,1,n_particulas)*t)+mt.cos(wr(Tension,dis,masa,3,n_particulas)*t))\n",
    "    i = i+1\n",
    "    t = t + dt\n",
    "\n",
    "print(q1)\n",
    "print(q2)\n"
   ]
  },
  {
   "cell_type": "code",
   "execution_count": null,
   "id": "819f87f4-38a0-448c-a5f1-d749c3eca013",
   "metadata": {},
   "outputs": [],
   "source": []
  }
 ],
 "metadata": {
  "kernelspec": {
   "display_name": "Python 3 (ipykernel)",
   "language": "python",
   "name": "python3"
  },
  "language_info": {
   "codemirror_mode": {
    "name": "ipython",
    "version": 3
   },
   "file_extension": ".py",
   "mimetype": "text/x-python",
   "name": "python",
   "nbconvert_exporter": "python",
   "pygments_lexer": "ipython3",
   "version": "3.12.4"
  }
 },
 "nbformat": 4,
 "nbformat_minor": 5
}
